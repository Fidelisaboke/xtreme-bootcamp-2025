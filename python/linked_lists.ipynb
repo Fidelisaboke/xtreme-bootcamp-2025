{
  "nbformat": 4,
  "nbformat_minor": 0,
  "metadata": {
    "colab": {
      "provenance": [],
      "authorship_tag": "ABX9TyPjUymMv38jW3XFTDwP1Gfy",
      "include_colab_link": true
    },
    "kernelspec": {
      "name": "python3",
      "display_name": "Python 3"
    },
    "language_info": {
      "name": "python"
    }
  },
  "cells": [
    {
      "cell_type": "markdown",
      "metadata": {
        "id": "view-in-github",
        "colab_type": "text"
      },
      "source": [
        "<a href=\"https://colab.research.google.com/github/Fidelisaboke/xtreme-bootcamp-2025/blob/main/linked_lists.ipynb\" target=\"_parent\"><img src=\"https://colab.research.google.com/assets/colab-badge.svg\" alt=\"Open In Colab\"/></a>"
      ]
    },
    {
      "cell_type": "markdown",
      "source": [
        "# Linked Lists in Python\n",
        "\n",
        "> A linked list is a linear data structures that stores a sequence of nodes (elements with data and a reference - pointer - to the next element in the sequence).\n",
        "\n"
      ],
      "metadata": {
        "id": "4324bsYG9_jK"
      }
    },
    {
      "cell_type": "markdown",
      "source": [
        "### 1. Singly Linked List"
      ],
      "metadata": {
        "id": "TY4UHilS-DJ3"
      }
    },
    {
      "cell_type": "code",
      "source": [
        "# Singly linked list - Basic implementation\n",
        "\n",
        "class Node:\n",
        "  \"\"\"\n",
        "  Simple implementation of a Node in a singly linked list.\n",
        "  - Node: A single element in a linked list containing\n",
        "  a data item and a pointer to the next element in the list.\n",
        "  \"\"\"\n",
        "  def __init__(self, data):\n",
        "    self.data = data\n",
        "    self.next = None\n",
        "\n",
        "# Creating linked list nodes\n",
        "node1 = Node(5) # Head node\n",
        "node2 = Node(10)\n",
        "node3 = Node(15)\n",
        "node4 = Node(30) # Tail node\n",
        "\n",
        "# Adding pointers to the nodes\n",
        "node1.next = node2\n",
        "node2.next = node3\n",
        "node3.next = node4\n",
        "\n",
        "# Printing out the singly linked list\n",
        "current_node = node1\n",
        "while current_node is not None:\n",
        "  print(f\"{current_node.data}\", end=\" -> \")\n",
        "  current_node = current_node.next\n",
        "print(\"null\")"
      ],
      "metadata": {
        "colab": {
          "base_uri": "https://localhost:8080/"
        },
        "id": "lVd5gzsh-GDh",
        "outputId": "ade5f5d4-7697-4a36-9354-abcfa438437d"
      },
      "execution_count": null,
      "outputs": [
        {
          "output_type": "stream",
          "name": "stdout",
          "text": [
            "5 -> 10 -> 15 -> 30 -> null\n"
          ]
        }
      ]
    },
    {
      "cell_type": "markdown",
      "source": [
        "- Singly Circular Linked List implementation"
      ],
      "metadata": {
        "id": "5Yf6Ax1EDg6O"
      }
    },
    {
      "cell_type": "code",
      "source": [
        "# Circular implementation\n",
        "node1 = Node(50) # Head node\n",
        "node2 = Node(35)\n",
        "node3 = Node(20) # Tail node (will link to the head node)\n",
        "\n",
        "# Adding pointers to the nodes\n",
        "node1.next = node2\n",
        "node2.next = node3\n",
        "node3.next = node1\n",
        "\n",
        "# Printing out the singly circular linked list\n",
        "start_node = node1\n",
        "current_node = node1\n",
        "print(f\"{current_node.data}\", end=\" -> \")\n",
        "current_node = current_node.next\n",
        "\n",
        "while current_node is not start_node:\n",
        "  print(f\"{current_node.data}\", end=\" -> \")\n",
        "  current_node = current_node.next\n",
        "print(f\"{current_node.data}\", end=\" -> \")\n",
        "print(\"...\")"
      ],
      "metadata": {
        "colab": {
          "base_uri": "https://localhost:8080/"
        },
        "id": "-aaboGjPDkaZ",
        "outputId": "87bdb341-88cf-4248-ef56-8f0c4c9db641"
      },
      "execution_count": null,
      "outputs": [
        {
          "output_type": "stream",
          "name": "stdout",
          "text": [
            "50 -> 35 -> 20 -> 50 -> ...\n"
          ]
        }
      ]
    },
    {
      "cell_type": "markdown",
      "source": [
        "### 2. Doubly Linked List"
      ],
      "metadata": {
        "id": "lLuwfO2DAW8e"
      }
    },
    {
      "cell_type": "code",
      "source": [
        "# Doubly Linked list - Basic implementation\n",
        "\n",
        "class Node:\n",
        "  \"\"\"\n",
        "  Simple implementation of a node in a doubly linked list.\n",
        "  This node contains pointers to the previous and\n",
        "  next elements in the linked list.\n",
        "  \"\"\"\n",
        "  def __init__(self, data):\n",
        "    self.prev = None\n",
        "    self.data = data\n",
        "    self.next = None\n",
        "\n",
        "# Creating linked list nodes\n",
        "node1 = Node(100) # Head node\n",
        "node2 = Node(200)\n",
        "node3 = Node(300) # Tail node\n",
        "\n",
        "# Node 1 (Head node - points to the next node only)\n",
        "node1.next = node2\n",
        "\n",
        "# Node 2 (Node in between the head and tail)\n",
        "node2.prev = node1\n",
        "node2.next = node3\n",
        "\n",
        "# Node 3 (Tail node)\n",
        "node3.prev = node2"
      ],
      "metadata": {
        "id": "Gy_refgXAVNG"
      },
      "execution_count": null,
      "outputs": []
    },
    {
      "cell_type": "code",
      "source": [
        "# Printing out the doubly linked list (from the head to the tail)\n",
        "print(\"Forward traversal: \")\n",
        "current_node = node1\n",
        "while current_node is not None:\n",
        "  print(f\"{current_node.data}\", end=\" -> \")\n",
        "  current_node = current_node.next\n",
        "print(\"null\")"
      ],
      "metadata": {
        "colab": {
          "base_uri": "https://localhost:8080/"
        },
        "id": "fNxPZ2ETC4nn",
        "outputId": "8fdda205-0fa5-4197-e9b7-684041a3553b"
      },
      "execution_count": null,
      "outputs": [
        {
          "output_type": "stream",
          "name": "stdout",
          "text": [
            "Forward traversal: \n",
            "100 -> 200 -> 300 -> null\n"
          ]
        }
      ]
    },
    {
      "cell_type": "code",
      "source": [
        "# Printing out the linked list in reverse order (from the tail to the head)\n",
        "print(\"Backward traversal: \")\n",
        "current_node = node3\n",
        "while current_node is not None:\n",
        "  print(f\"{current_node.data}\", end=\" -> \")\n",
        "  current_node = current_node.prev\n",
        "print(\"null\")"
      ],
      "metadata": {
        "colab": {
          "base_uri": "https://localhost:8080/"
        },
        "id": "BWx3SOgWC832",
        "outputId": "8386f234-7f6c-43aa-931b-24fa854bf06b"
      },
      "execution_count": null,
      "outputs": [
        {
          "output_type": "stream",
          "name": "stdout",
          "text": [
            "Backward traversal: \n",
            "300 -> 200 -> 100 -> null\n"
          ]
        }
      ]
    },
    {
      "cell_type": "markdown",
      "source": [
        "- Doubly linked list circular implementation"
      ],
      "metadata": {
        "id": "x4SfnRV-EkIG"
      }
    },
    {
      "cell_type": "code",
      "source": [
        "# Circular implementation\n",
        "node1 = Node(200) # Head node (will link to the tail node)\n",
        "node2 = Node(350)\n",
        "node3 = Node(240) # Tail node (will link to the head node)\n",
        "\n",
        "# Node 1 (Head node)\n",
        "node1.prev = node3\n",
        "node1.next = node2\n",
        "\n",
        "# Node 2\n",
        "node2.prev = node1\n",
        "node2.next = node3\n",
        "\n",
        "# Node 3 (Tail node)\n",
        "node3.prev = node2\n",
        "node3.next = node1"
      ],
      "metadata": {
        "id": "O6rsftmmEm49"
      },
      "execution_count": null,
      "outputs": []
    },
    {
      "cell_type": "code",
      "source": [
        "# Printing out the circular linked list (from head to tail)\n",
        "print(\"Forward traversal: \")\n",
        "start_node = node1\n",
        "current_node = node1\n",
        "print(f\"{current_node.data}\", end=\" -> \")\n",
        "current_node = current_node.next\n",
        "\n",
        "while current_node is not start_node:\n",
        "  print(f\"{current_node.data}\", end=\" -> \")\n",
        "  current_node = current_node.next\n",
        "print(f\"{current_node.data}\", end=\" -> \")\n",
        "print(\"...\")"
      ],
      "metadata": {
        "colab": {
          "base_uri": "https://localhost:8080/"
        },
        "id": "M-NpUxYLFAFV",
        "outputId": "bdf27814-0a64-44a0-cbdd-14d5ea391acc"
      },
      "execution_count": null,
      "outputs": [
        {
          "output_type": "stream",
          "name": "stdout",
          "text": [
            "Forward traversal: \n",
            "200 -> 350 -> 240 -> 200 -> ...\n"
          ]
        }
      ]
    },
    {
      "cell_type": "code",
      "source": [
        "# Printing out the circular linked list in reverse order (from head to tail)\n",
        "print(\"Backward traversal: \")\n",
        "start_node = node3\n",
        "current_node = node3\n",
        "print(f\"{current_node.data}\", end=\" -> \")\n",
        "current_node = current_node.next\n",
        "\n",
        "while current_node is not start_node:\n",
        "  print(f\"{current_node.data}\", end=\" -> \")\n",
        "  current_node = current_node.next\n",
        "print(f\"{current_node.data}\", end=\" -> \")\n",
        "print(\"...\")"
      ],
      "metadata": {
        "colab": {
          "base_uri": "https://localhost:8080/"
        },
        "id": "sznJFwhcFECg",
        "outputId": "0753613c-0edd-4e62-c4f3-99fdc73d1291"
      },
      "execution_count": null,
      "outputs": [
        {
          "output_type": "stream",
          "name": "stdout",
          "text": [
            "Backward traversal: \n",
            "240 -> 200 -> 350 -> 240 -> ...\n"
          ]
        }
      ]
    },
    {
      "cell_type": "markdown",
      "source": [
        "## Linked List Operations"
      ],
      "metadata": {
        "id": "puEUvmhbIReS"
      }
    },
    {
      "cell_type": "code",
      "source": [
        "class Node:\n",
        "  \"\"\"A linked list node.\"\"\"\n",
        "  def __init__(self, data):\n",
        "    self.data = data\n",
        "    self.next = None\n",
        "\n",
        "class LinkedList:\n",
        "  \"\"\"A linked list.\"\"\"\n",
        "  def __init__(self, head=None):\n",
        "    self.head = head\n",
        "\n",
        "  def traverse(self):\n",
        "    \"\"\"Traverses the linked list and prints out the data items.\"\"\"\n",
        "    current_node = self.head\n",
        "    while current_node is not None:\n",
        "      print(f\"{current_node.data}\", end=\" -> \")\n",
        "      current_node = current_node.next\n",
        "    print(\"null\")\n",
        "\n",
        "  def insert_node(self, data, position=0):\n",
        "    \"\"\"\n",
        "    Inserts a node at a specific position in the linked list.\n",
        "    - Involves traversing the linked list until the desired position.\n",
        "    \"\"\"\n",
        "    new_node = Node(data)\n",
        "\n",
        "    # Insert new node at the beginning (if 1st position selected)\n",
        "    if position == 0:\n",
        "      new_node.next = self.head\n",
        "      self.head = new_node\n",
        "      return new_node\n",
        "\n",
        "    # Traverse the linked list until the desired position\n",
        "    current_node = self.head\n",
        "    current_position = 0\n",
        "    while current_position < position and current_node.next is not None:\n",
        "      current_node = current_node.next\n",
        "      current_position += 1\n",
        "\n",
        "    # Insert the new node\n",
        "    new_node.next = current_node.next\n",
        "    current_node.next = new_node\n",
        "    return new_node\n",
        "\n",
        "  def delete_node(self, position=0):\n",
        "    \"\"\"\n",
        "    Deletes a node at a specific position in the linked list.\n",
        "    - Involves traversing the linked list until the desired position.\n",
        "    \"\"\"\n",
        "\n",
        "    # Delete the first node (if 1st position selected)\n",
        "    if position == 0 and self.head is not None:\n",
        "      self.head = self.head.next\n",
        "      return\n",
        "\n",
        "    # Traverse the linked list until the desired position\n",
        "    current_node = self.head\n",
        "    current_position = 0\n",
        "    while current_position < position and current_node.next is not None:\n",
        "      previous_node = current_node\n",
        "      current_node = current_node.next\n",
        "      current_position += 1\n",
        "\n",
        "    previous_node.next = current_node.next\n",
        "    return\n"
      ],
      "metadata": {
        "id": "k1nmyEFCIWTI"
      },
      "execution_count": null,
      "outputs": []
    },
    {
      "cell_type": "markdown",
      "source": [
        "### Running the Operations"
      ],
      "metadata": {
        "id": "2IMoINNVL467"
      }
    },
    {
      "cell_type": "code",
      "source": [
        "\"\"\"Creating the linked list with nodes.\"\"\"\n",
        "\n",
        "# Nodes\n",
        "node1 = Node(30)\n",
        "\n",
        "# Linked list (node1 as the head node)\n",
        "linked_list = LinkedList(head=node1)\n",
        "linked_list.traverse()"
      ],
      "metadata": {
        "colab": {
          "base_uri": "https://localhost:8080/"
        },
        "id": "kmGKw0egL-DZ",
        "outputId": "4ce44559-5011-49c8-f8d1-a8bb1211c2b5"
      },
      "execution_count": null,
      "outputs": [
        {
          "output_type": "stream",
          "name": "stdout",
          "text": [
            "30 -> null\n"
          ]
        }
      ]
    },
    {
      "cell_type": "markdown",
      "source": [
        "- Inserting a new node"
      ],
      "metadata": {
        "id": "NoaSlrnMMel4"
      }
    },
    {
      "cell_type": "code",
      "source": [
        "linked_list.insert_node(data=20, position=1)\n",
        "linked_list.traverse()"
      ],
      "metadata": {
        "colab": {
          "base_uri": "https://localhost:8080/"
        },
        "id": "6R5LxsW_MeLj",
        "outputId": "fea9e5ed-e831-4767-f6de-b920204304cc"
      },
      "execution_count": null,
      "outputs": [
        {
          "output_type": "stream",
          "name": "stdout",
          "text": [
            "30 -> 20 -> null\n"
          ]
        }
      ]
    },
    {
      "cell_type": "code",
      "source": [
        "linked_list.insert_node(data=10, position=0)\n",
        "linked_list.traverse()"
      ],
      "metadata": {
        "colab": {
          "base_uri": "https://localhost:8080/"
        },
        "id": "7z2FkLDIMt-a",
        "outputId": "cc9abb29-39d1-454f-8673-7b09af926351"
      },
      "execution_count": null,
      "outputs": [
        {
          "output_type": "stream",
          "name": "stdout",
          "text": [
            "10 -> 30 -> 20 -> null\n"
          ]
        }
      ]
    },
    {
      "cell_type": "markdown",
      "source": [
        "- Deleting a new node"
      ],
      "metadata": {
        "id": "nrBM9_8JMxz6"
      }
    },
    {
      "cell_type": "code",
      "source": [
        "linked_list.delete_node(position=1)\n",
        "linked_list.traverse()"
      ],
      "metadata": {
        "colab": {
          "base_uri": "https://localhost:8080/"
        },
        "id": "ow82JV5uM135",
        "outputId": "6739b04f-86ff-4234-f5e3-1fcdfe55452c"
      },
      "execution_count": null,
      "outputs": [
        {
          "output_type": "stream",
          "name": "stdout",
          "text": [
            "10 -> 20 -> null\n"
          ]
        }
      ]
    }
  ]
}